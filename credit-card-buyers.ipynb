{
 "cells": [
  {
   "cell_type": "markdown",
   "id": "47c6e49a",
   "metadata": {
    "papermill": {
     "duration": 0.031736,
     "end_time": "2021-09-15T14:36:57.004711",
     "exception": false,
     "start_time": "2021-09-15T14:36:56.972975",
     "status": "completed"
    },
    "tags": []
   },
   "source": [
    "# 1.Import Data"
   ]
  },
  {
   "cell_type": "code",
   "execution_count": 1,
   "id": "e65eeaaa",
   "metadata": {
    "_cell_guid": "b1076dfc-b9ad-4769-8c92-a6c4dae69d19",
    "_uuid": "8f2839f25d086af736a60e9eeb907d3b93b6e0e5",
    "execution": {
     "iopub.execute_input": "2021-09-15T14:36:57.077756Z",
     "iopub.status.busy": "2021-09-15T14:36:57.067532Z",
     "iopub.status.idle": "2021-09-15T14:36:57.091548Z",
     "shell.execute_reply": "2021-09-15T14:36:57.090566Z",
     "shell.execute_reply.started": "2021-09-15T14:22:21.070034Z"
    },
    "papermill": {
     "duration": 0.057236,
     "end_time": "2021-09-15T14:36:57.091768",
     "exception": false,
     "start_time": "2021-09-15T14:36:57.034532",
     "status": "completed"
    },
    "tags": []
   },
   "outputs": [
    {
     "name": "stdout",
     "output_type": "stream",
     "text": [
      "/kaggle/input/credit-card-buyers/test data credit card.csv\n",
      "/kaggle/input/credit-card-buyers/train data credit card.csv\n"
     ]
    }
   ],
   "source": [
    "# This Python 3 environment comes with many helpful analytics libraries installed\n",
    "# It is defined by the kaggle/python Docker image: https://github.com/kaggle/docker-python\n",
    "# For example, here's several helpful packages to load\n",
    "\n",
    "import numpy as np # linear algebra\n",
    "import pandas as pd # data processing, CSV file I/O (e.g. pd.read_csv)\n",
    "\n",
    "# Input data files are available in the read-only \"../input/\" directory\n",
    "# For example, running this (by clicking run or pressing Shift+Enter) will list all files under the input directory\n",
    "\n",
    "import os\n",
    "for dirname, _, filenames in os.walk('/kaggle/input'):\n",
    "    for filename in filenames:\n",
    "        print(os.path.join(dirname, filename))\n",
    "\n",
    "# You can write up to 20GB to the current directory (/kaggle/working/) that gets preserved as output when you create a version using \"Save & Run All\" \n",
    "# You can also write temporary files to /kaggle/temp/, but they won't be saved outside of the current session"
   ]
  },
  {
   "cell_type": "code",
   "execution_count": 2,
   "id": "249c687e",
   "metadata": {
    "execution": {
     "iopub.execute_input": "2021-09-15T14:36:57.158133Z",
     "iopub.status.busy": "2021-09-15T14:36:57.157435Z",
     "iopub.status.idle": "2021-09-15T14:36:58.076846Z",
     "shell.execute_reply": "2021-09-15T14:36:58.076166Z",
     "shell.execute_reply.started": "2021-09-15T14:22:22.154106Z"
    },
    "papermill": {
     "duration": 0.954015,
     "end_time": "2021-09-15T14:36:58.076984",
     "exception": false,
     "start_time": "2021-09-15T14:36:57.122969",
     "status": "completed"
    },
    "tags": []
   },
   "outputs": [],
   "source": [
    "import matplotlib.pyplot as plt\n",
    "import seaborn as sns\n",
    "sns.set(color_codes = True)\n",
    "%matplotlib inline\n"
   ]
  },
  {
   "cell_type": "markdown",
   "id": "66f6a997",
   "metadata": {
    "papermill": {
     "duration": 0.029397,
     "end_time": "2021-09-15T14:36:58.136945",
     "exception": false,
     "start_time": "2021-09-15T14:36:58.107548",
     "status": "completed"
    },
    "tags": []
   },
   "source": [
    "# 2.Import Data"
   ]
  },
  {
   "cell_type": "code",
   "execution_count": 3,
   "id": "8d6c12f6",
   "metadata": {
    "execution": {
     "iopub.execute_input": "2021-09-15T14:36:58.200653Z",
     "iopub.status.busy": "2021-09-15T14:36:58.199969Z",
     "iopub.status.idle": "2021-09-15T14:36:58.996677Z",
     "shell.execute_reply": "2021-09-15T14:36:58.996061Z",
     "shell.execute_reply.started": "2021-09-15T14:22:24.391728Z"
    },
    "papermill": {
     "duration": 0.830747,
     "end_time": "2021-09-15T14:36:58.996813",
     "exception": false,
     "start_time": "2021-09-15T14:36:58.166066",
     "status": "completed"
    },
    "tags": []
   },
   "outputs": [
    {
     "data": {
      "text/html": [
       "<div>\n",
       "<style scoped>\n",
       "    .dataframe tbody tr th:only-of-type {\n",
       "        vertical-align: middle;\n",
       "    }\n",
       "\n",
       "    .dataframe tbody tr th {\n",
       "        vertical-align: top;\n",
       "    }\n",
       "\n",
       "    .dataframe thead th {\n",
       "        text-align: right;\n",
       "    }\n",
       "</style>\n",
       "<table border=\"1\" class=\"dataframe\">\n",
       "  <thead>\n",
       "    <tr style=\"text-align: right;\">\n",
       "      <th></th>\n",
       "      <th>ID</th>\n",
       "      <th>Gender</th>\n",
       "      <th>Age</th>\n",
       "      <th>Region_Code</th>\n",
       "      <th>Occupation</th>\n",
       "      <th>Channel_Code</th>\n",
       "      <th>Vintage</th>\n",
       "      <th>Credit_Product</th>\n",
       "      <th>Avg_Account_Balance</th>\n",
       "      <th>Is_Active</th>\n",
       "      <th>Is_Lead</th>\n",
       "    </tr>\n",
       "  </thead>\n",
       "  <tbody>\n",
       "    <tr>\n",
       "      <th>0</th>\n",
       "      <td>NNVBBKZB</td>\n",
       "      <td>Female</td>\n",
       "      <td>73</td>\n",
       "      <td>RG268</td>\n",
       "      <td>Other</td>\n",
       "      <td>X3</td>\n",
       "      <td>43</td>\n",
       "      <td>No</td>\n",
       "      <td>1045696</td>\n",
       "      <td>No</td>\n",
       "      <td>0</td>\n",
       "    </tr>\n",
       "    <tr>\n",
       "      <th>1</th>\n",
       "      <td>IDD62UNG</td>\n",
       "      <td>Female</td>\n",
       "      <td>30</td>\n",
       "      <td>RG277</td>\n",
       "      <td>Salaried</td>\n",
       "      <td>X1</td>\n",
       "      <td>32</td>\n",
       "      <td>No</td>\n",
       "      <td>581988</td>\n",
       "      <td>No</td>\n",
       "      <td>0</td>\n",
       "    </tr>\n",
       "    <tr>\n",
       "      <th>2</th>\n",
       "      <td>HD3DSEMC</td>\n",
       "      <td>Female</td>\n",
       "      <td>56</td>\n",
       "      <td>RG268</td>\n",
       "      <td>Self_Employed</td>\n",
       "      <td>X3</td>\n",
       "      <td>26</td>\n",
       "      <td>No</td>\n",
       "      <td>1484315</td>\n",
       "      <td>Yes</td>\n",
       "      <td>0</td>\n",
       "    </tr>\n",
       "    <tr>\n",
       "      <th>3</th>\n",
       "      <td>BF3NC7KV</td>\n",
       "      <td>Male</td>\n",
       "      <td>34</td>\n",
       "      <td>RG270</td>\n",
       "      <td>Salaried</td>\n",
       "      <td>X1</td>\n",
       "      <td>19</td>\n",
       "      <td>No</td>\n",
       "      <td>470454</td>\n",
       "      <td>No</td>\n",
       "      <td>0</td>\n",
       "    </tr>\n",
       "    <tr>\n",
       "      <th>4</th>\n",
       "      <td>TEASRWXV</td>\n",
       "      <td>Female</td>\n",
       "      <td>30</td>\n",
       "      <td>RG282</td>\n",
       "      <td>Salaried</td>\n",
       "      <td>X1</td>\n",
       "      <td>33</td>\n",
       "      <td>No</td>\n",
       "      <td>886787</td>\n",
       "      <td>No</td>\n",
       "      <td>0</td>\n",
       "    </tr>\n",
       "  </tbody>\n",
       "</table>\n",
       "</div>"
      ],
      "text/plain": [
       "         ID  Gender  Age Region_Code     Occupation Channel_Code  Vintage  \\\n",
       "0  NNVBBKZB  Female   73       RG268          Other           X3       43   \n",
       "1  IDD62UNG  Female   30       RG277       Salaried           X1       32   \n",
       "2  HD3DSEMC  Female   56       RG268  Self_Employed           X3       26   \n",
       "3  BF3NC7KV    Male   34       RG270       Salaried           X1       19   \n",
       "4  TEASRWXV  Female   30       RG282       Salaried           X1       33   \n",
       "\n",
       "  Credit_Product  Avg_Account_Balance Is_Active  Is_Lead  \n",
       "0             No              1045696        No        0  \n",
       "1             No               581988        No        0  \n",
       "2             No              1484315       Yes        0  \n",
       "3             No               470454        No        0  \n",
       "4             No               886787        No        0  "
      ]
     },
     "execution_count": 3,
     "metadata": {},
     "output_type": "execute_result"
    }
   ],
   "source": [
    "train = pd.read_csv(\"/kaggle/input/credit-card-buyers/train data credit card.csv\")\n",
    "test = pd.read_csv('/kaggle/input/credit-card-buyers/test data credit card.csv')\n",
    "train.head()"
   ]
  },
  {
   "cell_type": "markdown",
   "id": "d3bc2ed4",
   "metadata": {
    "papermill": {
     "duration": 0.029318,
     "end_time": "2021-09-15T14:36:59.055843",
     "exception": false,
     "start_time": "2021-09-15T14:36:59.026525",
     "status": "completed"
    },
    "tags": []
   },
   "source": [
    "# 3. Data Visualization"
   ]
  },
  {
   "cell_type": "code",
   "execution_count": 4,
   "id": "c60c503a",
   "metadata": {
    "execution": {
     "iopub.execute_input": "2021-09-15T14:36:59.138343Z",
     "iopub.status.busy": "2021-09-15T14:36:59.134642Z",
     "iopub.status.idle": "2021-09-15T14:37:09.574151Z",
     "shell.execute_reply": "2021-09-15T14:37:09.573632Z",
     "shell.execute_reply.started": "2021-09-15T14:22:25.978559Z"
    },
    "papermill": {
     "duration": 10.488887,
     "end_time": "2021-09-15T14:37:09.574309",
     "exception": false,
     "start_time": "2021-09-15T14:36:59.085422",
     "status": "completed"
    },
    "tags": []
   },
   "outputs": [
    {
     "data": {
      "text/plain": [
       "<AxesSubplot:xlabel='Is_Active', ylabel='Is_Lead'>"
      ]
     },
     "execution_count": 4,
     "metadata": {},
     "output_type": "execute_result"
    },
    {
     "data": {
      "image/png": "[encoded data removed]",
      "text/plain": [
       "<Figure size 1440x720 with 5 Axes>"
      ]
     },
     "metadata": {
      "needs_background": "light"
     },
     "output_type": "display_data"
    }
   ],
   "source": [
    "plt.subplots(figsize=(20,10))\n",
    "\n",
    "\n",
    "\n",
    "plt.subplot(231)\n",
    "sns.barplot(x = 'Gender',y = 'Is_Lead',data = train)\n",
    "\n",
    "plt.subplot(232)\n",
    "sns.barplot(x = 'Gender',y = 'Age',data = train)\n",
    "\n",
    "plt.subplot(233)\n",
    "sns.barplot(x = 'Occupation',y = 'Avg_Account_Balance',data = train)\n",
    "\n",
    "plt.subplot(234)\n",
    "sns.barplot(x = 'Credit_Product',y = 'Is_Lead',data = train)\n",
    "\n",
    "plt.subplot(235)\n",
    "sns.barplot(x = 'Is_Active',y = 'Is_Lead',data = train)"
   ]
  },
  {
   "cell_type": "markdown",
   "id": "209943fe",
   "metadata": {
    "papermill": {
     "duration": 0.042741,
     "end_time": "2021-09-15T14:37:09.662875",
     "exception": false,
     "start_time": "2021-09-15T14:37:09.620134",
     "status": "completed"
    },
    "tags": []
   },
   "source": [
    "##### from above visualization,\n",
    "##### from 1st barplot, males are more in count who are purchasing credit card as compared to females.\n",
    "##### From 2nd barplot, in the data average age of males are more than females.\n",
    "##### from 3rd barplot, According to occupation person who is entrepreneur that person is having more avg account balance.\n",
    "##### from 4th barplot, person who is having previsouly any type of loan that person having chance of buying credit card.\n",
    "##### final bar clearly metions, there no importance whether person active or not in both the cases person will buy credit card, but data showing credit card had been buying more if person is active."
   ]
  },
  {
   "cell_type": "code",
   "execution_count": 5,
   "id": "c61bfbb4",
   "metadata": {
    "execution": {
     "iopub.execute_input": "2021-09-15T14:37:09.934356Z",
     "iopub.status.busy": "2021-09-15T14:37:09.933584Z",
     "iopub.status.idle": "2021-09-15T14:37:09.955211Z",
     "shell.execute_reply": "2021-09-15T14:37:09.954136Z",
     "shell.execute_reply.started": "2021-09-15T14:22:36.711234Z"
    },
    "papermill": {
     "duration": 0.260794,
     "end_time": "2021-09-15T14:37:09.955424",
     "exception": false,
     "start_time": "2021-09-15T14:37:09.694630",
     "status": "completed"
    },
    "tags": []
   },
   "outputs": [
    {
     "name": "stdout",
     "output_type": "stream",
     "text": [
      "<class 'pandas.core.frame.DataFrame'>\n",
      "RangeIndex: 245725 entries, 0 to 245724\n",
      "Data columns (total 11 columns):\n",
      " #   Column               Non-Null Count   Dtype \n",
      "---  ------               --------------   ----- \n",
      " 0   ID                   245725 non-null  object\n",
      " 1   Gender               245725 non-null  object\n",
      " 2   Age                  245725 non-null  int64 \n",
      " 3   Region_Code          245725 non-null  object\n",
      " 4   Occupation           245725 non-null  object\n",
      " 5   Channel_Code         245725 non-null  object\n",
      " 6   Vintage              245725 non-null  int64 \n",
      " 7   Credit_Product       216400 non-null  object\n",
      " 8   Avg_Account_Balance  245725 non-null  int64 \n",
      " 9   Is_Active            245725 non-null  object\n",
      " 10  Is_Lead              245725 non-null  int64 \n",
      "dtypes: int64(4), object(7)\n",
      "memory usage: 20.6+ MB\n"
     ]
    }
   ],
   "source": [
    "train.info()"
   ]
  },
  {
   "cell_type": "code",
   "execution_count": 6,
   "id": "bf451cd6",
   "metadata": {
    "execution": {
     "iopub.execute_input": "2021-09-15T14:37:10.053592Z",
     "iopub.status.busy": "2021-09-15T14:37:10.052606Z",
     "iopub.status.idle": "2021-09-15T14:37:10.226637Z",
     "shell.execute_reply": "2021-09-15T14:37:10.225246Z",
     "shell.execute_reply.started": "2021-09-15T14:22:36.917829Z"
    },
    "papermill": {
     "duration": 0.238388,
     "end_time": "2021-09-15T14:37:10.226850",
     "exception": false,
     "start_time": "2021-09-15T14:37:09.988462",
     "status": "completed"
    },
    "tags": []
   },
   "outputs": [
    {
     "name": "stdout",
     "output_type": "stream",
     "text": [
      "ID: 0\n",
      "Gender: 0\n",
      "Age: 0\n",
      "Region_Code: 0\n",
      "Occupation: 0\n",
      "Channel_Code: 0\n",
      "Vintage: 0\n",
      "Credit_Product: 29325\n",
      "Avg_Account_Balance: 0\n",
      "Is_Active: 0\n",
      "Is_Lead: 0\n"
     ]
    }
   ],
   "source": [
    "# Check NAN Values\n",
    "for i in train.columns:\n",
    "    print (i+\": \"+str(train[i].isna().sum()))"
   ]
  },
  {
   "cell_type": "code",
   "execution_count": 7,
   "id": "54054071",
   "metadata": {
    "execution": {
     "iopub.execute_input": "2021-09-15T14:37:10.334037Z",
     "iopub.status.busy": "2021-09-15T14:37:10.332913Z",
     "iopub.status.idle": "2021-09-15T14:37:10.360016Z",
     "shell.execute_reply": "2021-09-15T14:37:10.360788Z",
     "shell.execute_reply.started": "2021-09-15T14:22:37.119906Z"
    },
    "papermill": {
     "duration": 0.097242,
     "end_time": "2021-09-15T14:37:10.361061",
     "exception": false,
     "start_time": "2021-09-15T14:37:10.263819",
     "status": "completed"
    },
    "tags": []
   },
   "outputs": [],
   "source": [
    "# as you see there is NAN values are present, particularly this is categorical feature in this case you can replace NAN values as missing values.\n",
    "# But as we just analysing, lets check if we drop NAN values then how it will perform.\n",
    "train['Credit_Product'] = train['Credit_Product'].dropna(axis = 0)\n"
   ]
  },
  {
   "cell_type": "code",
   "execution_count": 8,
   "id": "0bfff283",
   "metadata": {
    "execution": {
     "iopub.execute_input": "2021-09-15T14:37:10.455261Z",
     "iopub.status.busy": "2021-09-15T14:37:10.454666Z",
     "iopub.status.idle": "2021-09-15T14:37:10.495050Z",
     "shell.execute_reply": "2021-09-15T14:37:10.494560Z",
     "shell.execute_reply.started": "2021-09-15T14:22:37.173785Z"
    },
    "papermill": {
     "duration": 0.082956,
     "end_time": "2021-09-15T14:37:10.495187",
     "exception": false,
     "start_time": "2021-09-15T14:37:10.412231",
     "status": "completed"
    },
    "tags": []
   },
   "outputs": [
    {
     "data": {
      "text/plain": [
       "No     144357\n",
       "Yes     72043\n",
       "Name: Credit_Product, dtype: int64"
      ]
     },
     "execution_count": 8,
     "metadata": {},
     "output_type": "execute_result"
    }
   ],
   "source": [
    "train.Credit_Product.value_counts()"
   ]
  },
  {
   "cell_type": "code",
   "execution_count": 9,
   "id": "3a44a95f",
   "metadata": {
    "execution": {
     "iopub.execute_input": "2021-09-15T14:37:10.566268Z",
     "iopub.status.busy": "2021-09-15T14:37:10.563584Z",
     "iopub.status.idle": "2021-09-15T14:37:10.742175Z",
     "shell.execute_reply": "2021-09-15T14:37:10.740842Z",
     "shell.execute_reply.started": "2021-09-15T14:22:37.216105Z"
    },
    "papermill": {
     "duration": 0.214166,
     "end_time": "2021-09-15T14:37:10.742364",
     "exception": false,
     "start_time": "2021-09-15T14:37:10.528198",
     "status": "completed"
    },
    "tags": []
   },
   "outputs": [
    {
     "data": {
      "text/plain": [
       "<AxesSubplot:xlabel='Is_Lead', ylabel='count'>"
      ]
     },
     "execution_count": 9,
     "metadata": {},
     "output_type": "execute_result"
    },
    {
     "data": {
      "image/png": "[encoded data removed]",
      "text/plain": [
       "<Figure size 432x288 with 1 Axes>"
      ]
     },
     "metadata": {
      "needs_background": "light"
     },
     "output_type": "display_data"
    }
   ],
   "source": [
    "# Data is imbalanced, let used imbalance library from sklearn, and as you can see person who is buying credit card having less number of data \n",
    "# Either we can perform undersampling or oversampling, in this model we will try with undersampling lets check how it will perform.\n",
    "sns.countplot(x = 'Is_Lead',data = train)"
   ]
  },
  {
   "cell_type": "code",
   "execution_count": 10,
   "id": "028494c9",
   "metadata": {
    "execution": {
     "iopub.execute_input": "2021-09-15T14:37:10.819416Z",
     "iopub.status.busy": "2021-09-15T14:37:10.818569Z",
     "iopub.status.idle": "2021-09-15T14:37:10.822581Z",
     "shell.execute_reply": "2021-09-15T14:37:10.821951Z",
     "shell.execute_reply.started": "2021-09-15T14:22:37.445437Z"
    },
    "papermill": {
     "duration": 0.04659,
     "end_time": "2021-09-15T14:37:10.822721",
     "exception": false,
     "start_time": "2021-09-15T14:37:10.776131",
     "status": "completed"
    },
    "tags": []
   },
   "outputs": [
    {
     "data": {
      "text/plain": [
       "0    187437\n",
       "1     58288\n",
       "Name: Is_Lead, dtype: int64"
      ]
     },
     "execution_count": 10,
     "metadata": {},
     "output_type": "execute_result"
    }
   ],
   "source": [
    "train.Is_Lead.value_counts()"
   ]
  },
  {
   "cell_type": "code",
   "execution_count": 11,
   "id": "2b7ac065",
   "metadata": {
    "execution": {
     "iopub.execute_input": "2021-09-15T14:37:10.963716Z",
     "iopub.status.busy": "2021-09-15T14:37:10.949621Z",
     "iopub.status.idle": "2021-09-15T14:37:11.348674Z",
     "shell.execute_reply": "2021-09-15T14:37:11.348069Z",
     "shell.execute_reply.started": "2021-09-15T14:24:22.553256Z"
    },
    "papermill": {
     "duration": 0.491385,
     "end_time": "2021-09-15T14:37:11.348819",
     "exception": false,
     "start_time": "2021-09-15T14:37:10.857434",
     "status": "completed"
    },
    "tags": []
   },
   "outputs": [
    {
     "data": {
      "text/plain": [
       "<AxesSubplot:xlabel='Credit_Product', ylabel='count'>"
      ]
     },
     "execution_count": 11,
     "metadata": {},
     "output_type": "execute_result"
    },
    {
     "data": {
      "image/png": "[encoded data removed]",
      "text/plain": [
       "<Figure size 432x288 with 1 Axes>"
      ]
     },
     "metadata": {
      "needs_background": "light"
     },
     "output_type": "display_data"
    }
   ],
   "source": [
    "sns.countplot(x = 'Credit_Product',data = train)"
   ]
  },
  {
   "cell_type": "markdown",
   "id": "9f4688b7",
   "metadata": {
    "papermill": {
     "duration": 0.035524,
     "end_time": "2021-09-15T14:37:11.420201",
     "exception": false,
     "start_time": "2021-09-15T14:37:11.384677",
     "status": "completed"
    },
    "tags": []
   },
   "source": [
    "# 4. Data Preprocessing & Cleaning"
   ]
  },
  {
   "cell_type": "code",
   "execution_count": 12,
   "id": "772d2a13",
   "metadata": {
    "execution": {
     "iopub.execute_input": "2021-09-15T14:37:11.498241Z",
     "iopub.status.busy": "2021-09-15T14:37:11.497596Z",
     "iopub.status.idle": "2021-09-15T14:37:11.956486Z",
     "shell.execute_reply": "2021-09-15T14:37:11.955875Z",
     "shell.execute_reply.started": "2021-09-15T14:24:23.924568Z"
    },
    "papermill": {
     "duration": 0.500745,
     "end_time": "2021-09-15T14:37:11.956627",
     "exception": false,
     "start_time": "2021-09-15T14:37:11.455882",
     "status": "completed"
    },
    "tags": []
   },
   "outputs": [],
   "source": [
    "#There are some categorical features are present, accordingly we can use nominal encoding or else we can use ordinal encoding.\n",
    "# I am using ordinal encoding on occupation and on other feature im going to use nominal encoding.\n",
    "from sklearn.preprocessing import LabelEncoder,MinMaxScaler , StandardScaler\n",
    "label = LabelEncoder()\n",
    "\n",
    "train['Occupation'] = label.fit_transform(train['Occupation'])\n",
    "\n",
    "train['Gender'] = pd.get_dummies(train['Gender'],drop_first = True)\n",
    "train['Is_Active'] = pd.get_dummies(train['Is_Active'],drop_first = True)\n",
    "train['Credit_Product'] = pd.get_dummies(train['Credit_Product'],drop_first = True)\n"
   ]
  },
  {
   "cell_type": "code",
   "execution_count": 13,
   "id": "66d1c988",
   "metadata": {
    "execution": {
     "iopub.execute_input": "2021-09-15T14:37:12.042929Z",
     "iopub.status.busy": "2021-09-15T14:37:12.041870Z",
     "iopub.status.idle": "2021-09-15T14:37:12.045747Z",
     "shell.execute_reply": "2021-09-15T14:37:12.045241Z",
     "shell.execute_reply.started": "2021-09-15T14:24:25.237817Z"
    },
    "papermill": {
     "duration": 0.053702,
     "end_time": "2021-09-15T14:37:12.045887",
     "exception": false,
     "start_time": "2021-09-15T14:37:11.992185",
     "status": "completed"
    },
    "tags": []
   },
   "outputs": [
    {
     "data": {
      "text/html": [
       "<div>\n",
       "<style scoped>\n",
       "    .dataframe tbody tr th:only-of-type {\n",
       "        vertical-align: middle;\n",
       "    }\n",
       "\n",
       "    .dataframe tbody tr th {\n",
       "        vertical-align: top;\n",
       "    }\n",
       "\n",
       "    .dataframe thead th {\n",
       "        text-align: right;\n",
       "    }\n",
       "</style>\n",
       "<table border=\"1\" class=\"dataframe\">\n",
       "  <thead>\n",
       "    <tr style=\"text-align: right;\">\n",
       "      <th></th>\n",
       "      <th>ID</th>\n",
       "      <th>Gender</th>\n",
       "      <th>Age</th>\n",
       "      <th>Region_Code</th>\n",
       "      <th>Occupation</th>\n",
       "      <th>Channel_Code</th>\n",
       "      <th>Vintage</th>\n",
       "      <th>Credit_Product</th>\n",
       "      <th>Avg_Account_Balance</th>\n",
       "      <th>Is_Active</th>\n",
       "      <th>Is_Lead</th>\n",
       "    </tr>\n",
       "  </thead>\n",
       "  <tbody>\n",
       "    <tr>\n",
       "      <th>0</th>\n",
       "      <td>NNVBBKZB</td>\n",
       "      <td>0</td>\n",
       "      <td>73</td>\n",
       "      <td>RG268</td>\n",
       "      <td>1</td>\n",
       "      <td>X3</td>\n",
       "      <td>43</td>\n",
       "      <td>0</td>\n",
       "      <td>1045696</td>\n",
       "      <td>0</td>\n",
       "      <td>0</td>\n",
       "    </tr>\n",
       "    <tr>\n",
       "      <th>1</th>\n",
       "      <td>IDD62UNG</td>\n",
       "      <td>0</td>\n",
       "      <td>30</td>\n",
       "      <td>RG277</td>\n",
       "      <td>2</td>\n",
       "      <td>X1</td>\n",
       "      <td>32</td>\n",
       "      <td>0</td>\n",
       "      <td>581988</td>\n",
       "      <td>0</td>\n",
       "      <td>0</td>\n",
       "    </tr>\n",
       "    <tr>\n",
       "      <th>2</th>\n",
       "      <td>HD3DSEMC</td>\n",
       "      <td>0</td>\n",
       "      <td>56</td>\n",
       "      <td>RG268</td>\n",
       "      <td>3</td>\n",
       "      <td>X3</td>\n",
       "      <td>26</td>\n",
       "      <td>0</td>\n",
       "      <td>1484315</td>\n",
       "      <td>1</td>\n",
       "      <td>0</td>\n",
       "    </tr>\n",
       "    <tr>\n",
       "      <th>3</th>\n",
       "      <td>BF3NC7KV</td>\n",
       "      <td>1</td>\n",
       "      <td>34</td>\n",
       "      <td>RG270</td>\n",
       "      <td>2</td>\n",
       "      <td>X1</td>\n",
       "      <td>19</td>\n",
       "      <td>0</td>\n",
       "      <td>470454</td>\n",
       "      <td>0</td>\n",
       "      <td>0</td>\n",
       "    </tr>\n",
       "    <tr>\n",
       "      <th>4</th>\n",
       "      <td>TEASRWXV</td>\n",
       "      <td>0</td>\n",
       "      <td>30</td>\n",
       "      <td>RG282</td>\n",
       "      <td>2</td>\n",
       "      <td>X1</td>\n",
       "      <td>33</td>\n",
       "      <td>0</td>\n",
       "      <td>886787</td>\n",
       "      <td>0</td>\n",
       "      <td>0</td>\n",
       "    </tr>\n",
       "  </tbody>\n",
       "</table>\n",
       "</div>"
      ],
      "text/plain": [
       "         ID  Gender  Age Region_Code  Occupation Channel_Code  Vintage  \\\n",
       "0  NNVBBKZB       0   73       RG268           1           X3       43   \n",
       "1  IDD62UNG       0   30       RG277           2           X1       32   \n",
       "2  HD3DSEMC       0   56       RG268           3           X3       26   \n",
       "3  BF3NC7KV       1   34       RG270           2           X1       19   \n",
       "4  TEASRWXV       0   30       RG282           2           X1       33   \n",
       "\n",
       "   Credit_Product  Avg_Account_Balance  Is_Active  Is_Lead  \n",
       "0               0              1045696          0        0  \n",
       "1               0               581988          0        0  \n",
       "2               0              1484315          1        0  \n",
       "3               0               470454          0        0  \n",
       "4               0               886787          0        0  "
      ]
     },
     "execution_count": 13,
     "metadata": {},
     "output_type": "execute_result"
    }
   ],
   "source": [
    "train.head()"
   ]
  },
  {
   "cell_type": "code",
   "execution_count": 14,
   "id": "9045ca50",
   "metadata": {
    "execution": {
     "iopub.execute_input": "2021-09-15T14:37:12.124651Z",
     "iopub.status.busy": "2021-09-15T14:37:12.123968Z",
     "iopub.status.idle": "2021-09-15T14:37:12.153469Z",
     "shell.execute_reply": "2021-09-15T14:37:12.152899Z",
     "shell.execute_reply.started": "2021-09-15T14:24:25.633005Z"
    },
    "papermill": {
     "duration": 0.071095,
     "end_time": "2021-09-15T14:37:12.153611",
     "exception": false,
     "start_time": "2021-09-15T14:37:12.082516",
     "status": "completed"
    },
    "tags": []
   },
   "outputs": [
    {
     "data": {
      "text/html": [
       "<div>\n",
       "<style scoped>\n",
       "    .dataframe tbody tr th:only-of-type {\n",
       "        vertical-align: middle;\n",
       "    }\n",
       "\n",
       "    .dataframe tbody tr th {\n",
       "        vertical-align: top;\n",
       "    }\n",
       "\n",
       "    .dataframe thead th {\n",
       "        text-align: right;\n",
       "    }\n",
       "</style>\n",
       "<table border=\"1\" class=\"dataframe\">\n",
       "  <thead>\n",
       "    <tr style=\"text-align: right;\">\n",
       "      <th></th>\n",
       "      <th>Gender</th>\n",
       "      <th>Age</th>\n",
       "      <th>Occupation</th>\n",
       "      <th>Vintage</th>\n",
       "      <th>Credit_Product</th>\n",
       "      <th>Avg_Account_Balance</th>\n",
       "      <th>Is_Active</th>\n",
       "    </tr>\n",
       "  </thead>\n",
       "  <tbody>\n",
       "    <tr>\n",
       "      <th>0</th>\n",
       "      <td>0</td>\n",
       "      <td>73</td>\n",
       "      <td>1</td>\n",
       "      <td>43</td>\n",
       "      <td>0</td>\n",
       "      <td>1045696</td>\n",
       "      <td>0</td>\n",
       "    </tr>\n",
       "    <tr>\n",
       "      <th>1</th>\n",
       "      <td>0</td>\n",
       "      <td>30</td>\n",
       "      <td>2</td>\n",
       "      <td>32</td>\n",
       "      <td>0</td>\n",
       "      <td>581988</td>\n",
       "      <td>0</td>\n",
       "    </tr>\n",
       "    <tr>\n",
       "      <th>2</th>\n",
       "      <td>0</td>\n",
       "      <td>56</td>\n",
       "      <td>3</td>\n",
       "      <td>26</td>\n",
       "      <td>0</td>\n",
       "      <td>1484315</td>\n",
       "      <td>1</td>\n",
       "    </tr>\n",
       "    <tr>\n",
       "      <th>3</th>\n",
       "      <td>1</td>\n",
       "      <td>34</td>\n",
       "      <td>2</td>\n",
       "      <td>19</td>\n",
       "      <td>0</td>\n",
       "      <td>470454</td>\n",
       "      <td>0</td>\n",
       "    </tr>\n",
       "    <tr>\n",
       "      <th>4</th>\n",
       "      <td>0</td>\n",
       "      <td>30</td>\n",
       "      <td>2</td>\n",
       "      <td>33</td>\n",
       "      <td>0</td>\n",
       "      <td>886787</td>\n",
       "      <td>0</td>\n",
       "    </tr>\n",
       "    <tr>\n",
       "      <th>...</th>\n",
       "      <td>...</td>\n",
       "      <td>...</td>\n",
       "      <td>...</td>\n",
       "      <td>...</td>\n",
       "      <td>...</td>\n",
       "      <td>...</td>\n",
       "      <td>...</td>\n",
       "    </tr>\n",
       "    <tr>\n",
       "      <th>245720</th>\n",
       "      <td>1</td>\n",
       "      <td>51</td>\n",
       "      <td>3</td>\n",
       "      <td>109</td>\n",
       "      <td>0</td>\n",
       "      <td>1925586</td>\n",
       "      <td>0</td>\n",
       "    </tr>\n",
       "    <tr>\n",
       "      <th>245721</th>\n",
       "      <td>1</td>\n",
       "      <td>27</td>\n",
       "      <td>2</td>\n",
       "      <td>15</td>\n",
       "      <td>0</td>\n",
       "      <td>862952</td>\n",
       "      <td>1</td>\n",
       "    </tr>\n",
       "    <tr>\n",
       "      <th>245722</th>\n",
       "      <td>0</td>\n",
       "      <td>26</td>\n",
       "      <td>2</td>\n",
       "      <td>13</td>\n",
       "      <td>0</td>\n",
       "      <td>670659</td>\n",
       "      <td>0</td>\n",
       "    </tr>\n",
       "    <tr>\n",
       "      <th>245723</th>\n",
       "      <td>0</td>\n",
       "      <td>28</td>\n",
       "      <td>2</td>\n",
       "      <td>31</td>\n",
       "      <td>0</td>\n",
       "      <td>407504</td>\n",
       "      <td>0</td>\n",
       "    </tr>\n",
       "    <tr>\n",
       "      <th>245724</th>\n",
       "      <td>1</td>\n",
       "      <td>29</td>\n",
       "      <td>2</td>\n",
       "      <td>21</td>\n",
       "      <td>0</td>\n",
       "      <td>1129276</td>\n",
       "      <td>0</td>\n",
       "    </tr>\n",
       "  </tbody>\n",
       "</table>\n",
       "<p>245725 rows × 7 columns</p>\n",
       "</div>"
      ],
      "text/plain": [
       "        Gender  Age  Occupation  Vintage  Credit_Product  Avg_Account_Balance  \\\n",
       "0            0   73           1       43               0              1045696   \n",
       "1            0   30           2       32               0               581988   \n",
       "2            0   56           3       26               0              1484315   \n",
       "3            1   34           2       19               0               470454   \n",
       "4            0   30           2       33               0               886787   \n",
       "...        ...  ...         ...      ...             ...                  ...   \n",
       "245720       1   51           3      109               0              1925586   \n",
       "245721       1   27           2       15               0               862952   \n",
       "245722       0   26           2       13               0               670659   \n",
       "245723       0   28           2       31               0               407504   \n",
       "245724       1   29           2       21               0              1129276   \n",
       "\n",
       "        Is_Active  \n",
       "0               0  \n",
       "1               0  \n",
       "2               1  \n",
       "3               0  \n",
       "4               0  \n",
       "...           ...  \n",
       "245720          0  \n",
       "245721          1  \n",
       "245722          0  \n",
       "245723          0  \n",
       "245724          0  \n",
       "\n",
       "[245725 rows x 7 columns]"
      ]
     },
     "execution_count": 14,
     "metadata": {},
     "output_type": "execute_result"
    }
   ],
   "source": [
    "x = train.drop(['Is_Lead','ID','Region_Code','Channel_Code'],axis = True)\n",
    "y = train.loc[:,['Is_Lead']]\n",
    "x"
   ]
  },
  {
   "cell_type": "code",
   "execution_count": 15,
   "id": "c48ed311",
   "metadata": {
    "execution": {
     "iopub.execute_input": "2021-09-15T14:37:12.232187Z",
     "iopub.status.busy": "2021-09-15T14:37:12.231558Z",
     "iopub.status.idle": "2021-09-15T14:37:12.254907Z",
     "shell.execute_reply": "2021-09-15T14:37:12.254344Z",
     "shell.execute_reply.started": "2021-09-15T14:24:26.094678Z"
    },
    "papermill": {
     "duration": 0.065059,
     "end_time": "2021-09-15T14:37:12.255044",
     "exception": false,
     "start_time": "2021-09-15T14:37:12.189985",
     "status": "completed"
    },
    "tags": []
   },
   "outputs": [],
   "source": [
    "## Get the Fraud and the normal dataset \n",
    "\n",
    "interested= train[train['Is_Lead']==1]\n",
    "\n",
    "not_interested = train[train['Is_Lead']==0]"
   ]
  },
  {
   "cell_type": "code",
   "execution_count": 16,
   "id": "84e3f3a5",
   "metadata": {
    "execution": {
     "iopub.execute_input": "2021-09-15T14:37:12.332586Z",
     "iopub.status.busy": "2021-09-15T14:37:12.331909Z",
     "iopub.status.idle": "2021-09-15T14:37:12.335410Z",
     "shell.execute_reply": "2021-09-15T14:37:12.335938Z",
     "shell.execute_reply.started": "2021-09-15T14:24:26.524399Z"
    },
    "papermill": {
     "duration": 0.044717,
     "end_time": "2021-09-15T14:37:12.336100",
     "exception": false,
     "start_time": "2021-09-15T14:37:12.291383",
     "status": "completed"
    },
    "tags": []
   },
   "outputs": [
    {
     "name": "stdout",
     "output_type": "stream",
     "text": [
      "(58288, 11) (187437, 11)\n"
     ]
    }
   ],
   "source": [
    "print(interested.shape,not_interested.shape)"
   ]
  },
  {
   "cell_type": "code",
   "execution_count": 17,
   "id": "23a7ca5f",
   "metadata": {
    "execution": {
     "iopub.execute_input": "2021-09-15T14:37:12.415176Z",
     "iopub.status.busy": "2021-09-15T14:37:12.414540Z",
     "iopub.status.idle": "2021-09-15T14:37:14.145862Z",
     "shell.execute_reply": "2021-09-15T14:37:14.145295Z",
     "shell.execute_reply.started": "2021-09-15T14:24:26.966661Z"
    },
    "papermill": {
     "duration": 1.773207,
     "end_time": "2021-09-15T14:37:14.146014",
     "exception": false,
     "start_time": "2021-09-15T14:37:12.372807",
     "status": "completed"
    },
    "tags": []
   },
   "outputs": [],
   "source": [
    "from imblearn.under_sampling import NearMiss\n",
    "\n",
    "# Implementing Undersampling for Handling Imbalanced \n",
    "nm = NearMiss()\n",
    "X_res,y_res=nm.fit_resample(x,y)\n"
   ]
  },
  {
   "cell_type": "code",
   "execution_count": 18,
   "id": "508f13e9",
   "metadata": {
    "execution": {
     "iopub.execute_input": "2021-09-15T14:37:14.230741Z",
     "iopub.status.busy": "2021-09-15T14:37:14.225930Z",
     "iopub.status.idle": "2021-09-15T14:37:14.238670Z",
     "shell.execute_reply": "2021-09-15T14:37:14.239170Z",
     "shell.execute_reply.started": "2021-09-15T14:24:28.762582Z"
    },
    "papermill": {
     "duration": 0.056177,
     "end_time": "2021-09-15T14:37:14.239359",
     "exception": false,
     "start_time": "2021-09-15T14:37:14.183182",
     "status": "completed"
    },
    "tags": []
   },
   "outputs": [
    {
     "data": {
      "text/html": [
       "<div>\n",
       "<style scoped>\n",
       "    .dataframe tbody tr th:only-of-type {\n",
       "        vertical-align: middle;\n",
       "    }\n",
       "\n",
       "    .dataframe tbody tr th {\n",
       "        vertical-align: top;\n",
       "    }\n",
       "\n",
       "    .dataframe thead th {\n",
       "        text-align: right;\n",
       "    }\n",
       "</style>\n",
       "<table border=\"1\" class=\"dataframe\">\n",
       "  <thead>\n",
       "    <tr style=\"text-align: right;\">\n",
       "      <th></th>\n",
       "      <th>Gender</th>\n",
       "      <th>Age</th>\n",
       "      <th>Occupation</th>\n",
       "      <th>Vintage</th>\n",
       "      <th>Credit_Product</th>\n",
       "      <th>Avg_Account_Balance</th>\n",
       "      <th>Is_Active</th>\n",
       "    </tr>\n",
       "  </thead>\n",
       "  <tbody>\n",
       "    <tr>\n",
       "      <th>0</th>\n",
       "      <td>1</td>\n",
       "      <td>49</td>\n",
       "      <td>3</td>\n",
       "      <td>99</td>\n",
       "      <td>0</td>\n",
       "      <td>4022185</td>\n",
       "      <td>1</td>\n",
       "    </tr>\n",
       "    <tr>\n",
       "      <th>1</th>\n",
       "      <td>0</td>\n",
       "      <td>30</td>\n",
       "      <td>2</td>\n",
       "      <td>31</td>\n",
       "      <td>0</td>\n",
       "      <td>2521592</td>\n",
       "      <td>0</td>\n",
       "    </tr>\n",
       "    <tr>\n",
       "      <th>2</th>\n",
       "      <td>0</td>\n",
       "      <td>30</td>\n",
       "      <td>2</td>\n",
       "      <td>31</td>\n",
       "      <td>0</td>\n",
       "      <td>2521592</td>\n",
       "      <td>0</td>\n",
       "    </tr>\n",
       "    <tr>\n",
       "      <th>3</th>\n",
       "      <td>0</td>\n",
       "      <td>30</td>\n",
       "      <td>2</td>\n",
       "      <td>31</td>\n",
       "      <td>0</td>\n",
       "      <td>2521592</td>\n",
       "      <td>0</td>\n",
       "    </tr>\n",
       "    <tr>\n",
       "      <th>4</th>\n",
       "      <td>0</td>\n",
       "      <td>49</td>\n",
       "      <td>3</td>\n",
       "      <td>93</td>\n",
       "      <td>0</td>\n",
       "      <td>2433144</td>\n",
       "      <td>0</td>\n",
       "    </tr>\n",
       "    <tr>\n",
       "      <th>...</th>\n",
       "      <td>...</td>\n",
       "      <td>...</td>\n",
       "      <td>...</td>\n",
       "      <td>...</td>\n",
       "      <td>...</td>\n",
       "      <td>...</td>\n",
       "      <td>...</td>\n",
       "    </tr>\n",
       "    <tr>\n",
       "      <th>116571</th>\n",
       "      <td>1</td>\n",
       "      <td>43</td>\n",
       "      <td>2</td>\n",
       "      <td>50</td>\n",
       "      <td>0</td>\n",
       "      <td>551203</td>\n",
       "      <td>1</td>\n",
       "    </tr>\n",
       "    <tr>\n",
       "      <th>116572</th>\n",
       "      <td>1</td>\n",
       "      <td>53</td>\n",
       "      <td>1</td>\n",
       "      <td>19</td>\n",
       "      <td>0</td>\n",
       "      <td>1141825</td>\n",
       "      <td>1</td>\n",
       "    </tr>\n",
       "    <tr>\n",
       "      <th>116573</th>\n",
       "      <td>1</td>\n",
       "      <td>36</td>\n",
       "      <td>3</td>\n",
       "      <td>15</td>\n",
       "      <td>1</td>\n",
       "      <td>608110</td>\n",
       "      <td>1</td>\n",
       "    </tr>\n",
       "    <tr>\n",
       "      <th>116574</th>\n",
       "      <td>0</td>\n",
       "      <td>41</td>\n",
       "      <td>3</td>\n",
       "      <td>13</td>\n",
       "      <td>1</td>\n",
       "      <td>898170</td>\n",
       "      <td>1</td>\n",
       "    </tr>\n",
       "    <tr>\n",
       "      <th>116575</th>\n",
       "      <td>0</td>\n",
       "      <td>46</td>\n",
       "      <td>3</td>\n",
       "      <td>19</td>\n",
       "      <td>0</td>\n",
       "      <td>993195</td>\n",
       "      <td>0</td>\n",
       "    </tr>\n",
       "  </tbody>\n",
       "</table>\n",
       "<p>116576 rows × 7 columns</p>\n",
       "</div>"
      ],
      "text/plain": [
       "        Gender  Age  Occupation  Vintage  Credit_Product  Avg_Account_Balance  \\\n",
       "0            1   49           3       99               0              4022185   \n",
       "1            0   30           2       31               0              2521592   \n",
       "2            0   30           2       31               0              2521592   \n",
       "3            0   30           2       31               0              2521592   \n",
       "4            0   49           3       93               0              2433144   \n",
       "...        ...  ...         ...      ...             ...                  ...   \n",
       "116571       1   43           2       50               0               551203   \n",
       "116572       1   53           1       19               0              1141825   \n",
       "116573       1   36           3       15               1               608110   \n",
       "116574       0   41           3       13               1               898170   \n",
       "116575       0   46           3       19               0               993195   \n",
       "\n",
       "        Is_Active  \n",
       "0               1  \n",
       "1               0  \n",
       "2               0  \n",
       "3               0  \n",
       "4               0  \n",
       "...           ...  \n",
       "116571          1  \n",
       "116572          1  \n",
       "116573          1  \n",
       "116574          1  \n",
       "116575          0  \n",
       "\n",
       "[116576 rows x 7 columns]"
      ]
     },
     "execution_count": 18,
     "metadata": {},
     "output_type": "execute_result"
    }
   ],
   "source": [
    "X_res"
   ]
  },
  {
   "cell_type": "code",
   "execution_count": 19,
   "id": "bced61cf",
   "metadata": {
    "execution": {
     "iopub.execute_input": "2021-09-15T14:37:14.324023Z",
     "iopub.status.busy": "2021-09-15T14:37:14.323102Z",
     "iopub.status.idle": "2021-09-15T14:37:14.327160Z",
     "shell.execute_reply": "2021-09-15T14:37:14.326688Z",
     "shell.execute_reply.started": "2021-09-15T14:24:28.778674Z"
    },
    "papermill": {
     "duration": 0.050483,
     "end_time": "2021-09-15T14:37:14.327308",
     "exception": false,
     "start_time": "2021-09-15T14:37:14.276825",
     "status": "completed"
    },
    "tags": []
   },
   "outputs": [
    {
     "data": {
      "text/html": [
       "<div>\n",
       "<style scoped>\n",
       "    .dataframe tbody tr th:only-of-type {\n",
       "        vertical-align: middle;\n",
       "    }\n",
       "\n",
       "    .dataframe tbody tr th {\n",
       "        vertical-align: top;\n",
       "    }\n",
       "\n",
       "    .dataframe thead th {\n",
       "        text-align: right;\n",
       "    }\n",
       "</style>\n",
       "<table border=\"1\" class=\"dataframe\">\n",
       "  <thead>\n",
       "    <tr style=\"text-align: right;\">\n",
       "      <th></th>\n",
       "      <th>Is_Lead</th>\n",
       "    </tr>\n",
       "  </thead>\n",
       "  <tbody>\n",
       "    <tr>\n",
       "      <th>0</th>\n",
       "      <td>0</td>\n",
       "    </tr>\n",
       "    <tr>\n",
       "      <th>1</th>\n",
       "      <td>0</td>\n",
       "    </tr>\n",
       "    <tr>\n",
       "      <th>2</th>\n",
       "      <td>0</td>\n",
       "    </tr>\n",
       "    <tr>\n",
       "      <th>3</th>\n",
       "      <td>0</td>\n",
       "    </tr>\n",
       "    <tr>\n",
       "      <th>4</th>\n",
       "      <td>0</td>\n",
       "    </tr>\n",
       "    <tr>\n",
       "      <th>...</th>\n",
       "      <td>...</td>\n",
       "    </tr>\n",
       "    <tr>\n",
       "      <th>116571</th>\n",
       "      <td>1</td>\n",
       "    </tr>\n",
       "    <tr>\n",
       "      <th>116572</th>\n",
       "      <td>1</td>\n",
       "    </tr>\n",
       "    <tr>\n",
       "      <th>116573</th>\n",
       "      <td>1</td>\n",
       "    </tr>\n",
       "    <tr>\n",
       "      <th>116574</th>\n",
       "      <td>1</td>\n",
       "    </tr>\n",
       "    <tr>\n",
       "      <th>116575</th>\n",
       "      <td>1</td>\n",
       "    </tr>\n",
       "  </tbody>\n",
       "</table>\n",
       "<p>116576 rows × 1 columns</p>\n",
       "</div>"
      ],
      "text/plain": [
       "        Is_Lead\n",
       "0             0\n",
       "1             0\n",
       "2             0\n",
       "3             0\n",
       "4             0\n",
       "...         ...\n",
       "116571        1\n",
       "116572        1\n",
       "116573        1\n",
       "116574        1\n",
       "116575        1\n",
       "\n",
       "[116576 rows x 1 columns]"
      ]
     },
     "execution_count": 19,
     "metadata": {},
     "output_type": "execute_result"
    }
   ],
   "source": [
    "y_res"
   ]
  },
  {
   "cell_type": "code",
   "execution_count": 20,
   "id": "70e966bc",
   "metadata": {
    "execution": {
     "iopub.execute_input": "2021-09-15T14:37:14.412945Z",
     "iopub.status.busy": "2021-09-15T14:37:14.412229Z",
     "iopub.status.idle": "2021-09-15T14:37:14.417682Z",
     "shell.execute_reply": "2021-09-15T14:37:14.418125Z",
     "shell.execute_reply.started": "2021-09-15T14:24:28.793419Z"
    },
    "papermill": {
     "duration": 0.053089,
     "end_time": "2021-09-15T14:37:14.418295",
     "exception": false,
     "start_time": "2021-09-15T14:37:14.365206",
     "status": "completed"
    },
    "tags": []
   },
   "outputs": [
    {
     "data": {
      "text/plain": [
       "((116576, 7), (116576, 1))"
      ]
     },
     "execution_count": 20,
     "metadata": {},
     "output_type": "execute_result"
    }
   ],
   "source": [
    "final_data = pd.merge(X_res,y_res,left_index = True,right_index = True)\n",
    "X_res.shape,y_res.shape"
   ]
  },
  {
   "cell_type": "code",
   "execution_count": 21,
   "id": "176274fd",
   "metadata": {
    "execution": {
     "iopub.execute_input": "2021-09-15T14:37:14.502948Z",
     "iopub.status.busy": "2021-09-15T14:37:14.501918Z",
     "iopub.status.idle": "2021-09-15T14:37:14.698223Z",
     "shell.execute_reply": "2021-09-15T14:37:14.698803Z",
     "shell.execute_reply.started": "2021-09-15T14:24:29.412532Z"
    },
    "papermill": {
     "duration": 0.241268,
     "end_time": "2021-09-15T14:37:14.698972",
     "exception": false,
     "start_time": "2021-09-15T14:37:14.457704",
     "status": "completed"
    },
    "tags": []
   },
   "outputs": [
    {
     "data": {
      "text/plain": [
       "<AxesSubplot:ylabel='Avg_Account_Balance'>"
      ]
     },
     "execution_count": 21,
     "metadata": {},
     "output_type": "execute_result"
    },
    {
     "data": {
      "image/png": "[encoded data removed]",
      "text/plain": [
       "<Figure size 1440x576 with 1 Axes>"
      ]
     },
     "metadata": {
      "needs_background": "light"
     },
     "output_type": "display_data"
    }
   ],
   "source": [
    "# most of the variable is normal, means it does not having outliers as checked one parameter is having most of the outliers. either you can remove outliers and perform separate algorithm for outliers.\n",
    "plt.figure(figsize = (20,8))\n",
    "sns.boxplot(y='Avg_Account_Balance',data = final_data)"
   ]
  },
  {
   "cell_type": "code",
   "execution_count": 22,
   "id": "927fb7ec",
   "metadata": {
    "execution": {
     "iopub.execute_input": "2021-09-15T14:37:14.781251Z",
     "iopub.status.busy": "2021-09-15T14:37:14.780586Z",
     "iopub.status.idle": "2021-09-15T14:37:14.795088Z",
     "shell.execute_reply": "2021-09-15T14:37:14.795575Z",
     "shell.execute_reply.started": "2021-09-15T14:24:30.446150Z"
    },
    "papermill": {
     "duration": 0.057728,
     "end_time": "2021-09-15T14:37:14.795763",
     "exception": false,
     "start_time": "2021-09-15T14:37:14.738035",
     "status": "completed"
    },
    "tags": []
   },
   "outputs": [
    {
     "data": {
      "text/html": [
       "<div>\n",
       "<style scoped>\n",
       "    .dataframe tbody tr th:only-of-type {\n",
       "        vertical-align: middle;\n",
       "    }\n",
       "\n",
       "    .dataframe tbody tr th {\n",
       "        vertical-align: top;\n",
       "    }\n",
       "\n",
       "    .dataframe thead th {\n",
       "        text-align: right;\n",
       "    }\n",
       "</style>\n",
       "<table border=\"1\" class=\"dataframe\">\n",
       "  <thead>\n",
       "    <tr style=\"text-align: right;\">\n",
       "      <th></th>\n",
       "      <th>Gender</th>\n",
       "      <th>Age</th>\n",
       "      <th>Occupation</th>\n",
       "      <th>Vintage</th>\n",
       "      <th>Credit_Product</th>\n",
       "      <th>Avg_Account_Balance</th>\n",
       "      <th>Is_Active</th>\n",
       "      <th>Is_Lead</th>\n",
       "    </tr>\n",
       "  </thead>\n",
       "  <tbody>\n",
       "    <tr>\n",
       "      <th>0</th>\n",
       "      <td>1</td>\n",
       "      <td>49</td>\n",
       "      <td>3</td>\n",
       "      <td>99</td>\n",
       "      <td>0</td>\n",
       "      <td>4022185</td>\n",
       "      <td>1</td>\n",
       "      <td>0</td>\n",
       "    </tr>\n",
       "    <tr>\n",
       "      <th>1</th>\n",
       "      <td>0</td>\n",
       "      <td>30</td>\n",
       "      <td>2</td>\n",
       "      <td>31</td>\n",
       "      <td>0</td>\n",
       "      <td>2521592</td>\n",
       "      <td>0</td>\n",
       "      <td>0</td>\n",
       "    </tr>\n",
       "    <tr>\n",
       "      <th>2</th>\n",
       "      <td>0</td>\n",
       "      <td>30</td>\n",
       "      <td>2</td>\n",
       "      <td>31</td>\n",
       "      <td>0</td>\n",
       "      <td>2521592</td>\n",
       "      <td>0</td>\n",
       "      <td>0</td>\n",
       "    </tr>\n",
       "    <tr>\n",
       "      <th>3</th>\n",
       "      <td>0</td>\n",
       "      <td>30</td>\n",
       "      <td>2</td>\n",
       "      <td>31</td>\n",
       "      <td>0</td>\n",
       "      <td>2521592</td>\n",
       "      <td>0</td>\n",
       "      <td>0</td>\n",
       "    </tr>\n",
       "    <tr>\n",
       "      <th>4</th>\n",
       "      <td>0</td>\n",
       "      <td>49</td>\n",
       "      <td>3</td>\n",
       "      <td>93</td>\n",
       "      <td>0</td>\n",
       "      <td>2433144</td>\n",
       "      <td>0</td>\n",
       "      <td>0</td>\n",
       "    </tr>\n",
       "    <tr>\n",
       "      <th>...</th>\n",
       "      <td>...</td>\n",
       "      <td>...</td>\n",
       "      <td>...</td>\n",
       "      <td>...</td>\n",
       "      <td>...</td>\n",
       "      <td>...</td>\n",
       "      <td>...</td>\n",
       "      <td>...</td>\n",
       "    </tr>\n",
       "    <tr>\n",
       "      <th>116571</th>\n",
       "      <td>1</td>\n",
       "      <td>43</td>\n",
       "      <td>2</td>\n",
       "      <td>50</td>\n",
       "      <td>0</td>\n",
       "      <td>551203</td>\n",
       "      <td>1</td>\n",
       "      <td>1</td>\n",
       "    </tr>\n",
       "    <tr>\n",
       "      <th>116572</th>\n",
       "      <td>1</td>\n",
       "      <td>53</td>\n",
       "      <td>1</td>\n",
       "      <td>19</td>\n",
       "      <td>0</td>\n",
       "      <td>1141825</td>\n",
       "      <td>1</td>\n",
       "      <td>1</td>\n",
       "    </tr>\n",
       "    <tr>\n",
       "      <th>116573</th>\n",
       "      <td>1</td>\n",
       "      <td>36</td>\n",
       "      <td>3</td>\n",
       "      <td>15</td>\n",
       "      <td>1</td>\n",
       "      <td>608110</td>\n",
       "      <td>1</td>\n",
       "      <td>1</td>\n",
       "    </tr>\n",
       "    <tr>\n",
       "      <th>116574</th>\n",
       "      <td>0</td>\n",
       "      <td>41</td>\n",
       "      <td>3</td>\n",
       "      <td>13</td>\n",
       "      <td>1</td>\n",
       "      <td>898170</td>\n",
       "      <td>1</td>\n",
       "      <td>1</td>\n",
       "    </tr>\n",
       "    <tr>\n",
       "      <th>116575</th>\n",
       "      <td>0</td>\n",
       "      <td>46</td>\n",
       "      <td>3</td>\n",
       "      <td>19</td>\n",
       "      <td>0</td>\n",
       "      <td>993195</td>\n",
       "      <td>0</td>\n",
       "      <td>1</td>\n",
       "    </tr>\n",
       "  </tbody>\n",
       "</table>\n",
       "<p>116576 rows × 8 columns</p>\n",
       "</div>"
      ],
      "text/plain": [
       "        Gender  Age  Occupation  Vintage  Credit_Product  Avg_Account_Balance  \\\n",
       "0            1   49           3       99               0              4022185   \n",
       "1            0   30           2       31               0              2521592   \n",
       "2            0   30           2       31               0              2521592   \n",
       "3            0   30           2       31               0              2521592   \n",
       "4            0   49           3       93               0              2433144   \n",
       "...        ...  ...         ...      ...             ...                  ...   \n",
       "116571       1   43           2       50               0               551203   \n",
       "116572       1   53           1       19               0              1141825   \n",
       "116573       1   36           3       15               1               608110   \n",
       "116574       0   41           3       13               1               898170   \n",
       "116575       0   46           3       19               0               993195   \n",
       "\n",
       "        Is_Active  Is_Lead  \n",
       "0               1        0  \n",
       "1               0        0  \n",
       "2               0        0  \n",
       "3               0        0  \n",
       "4               0        0  \n",
       "...           ...      ...  \n",
       "116571          1        1  \n",
       "116572          1        1  \n",
       "116573          1        1  \n",
       "116574          1        1  \n",
       "116575          0        1  \n",
       "\n",
       "[116576 rows x 8 columns]"
      ]
     },
     "execution_count": 22,
     "metadata": {},
     "output_type": "execute_result"
    }
   ],
   "source": [
    "final_data"
   ]
  },
  {
   "cell_type": "code",
   "execution_count": 23,
   "id": "872bb924",
   "metadata": {
    "execution": {
     "iopub.execute_input": "2021-09-15T14:37:14.881753Z",
     "iopub.status.busy": "2021-09-15T14:37:14.881029Z",
     "iopub.status.idle": "2021-09-15T14:37:15.582684Z",
     "shell.execute_reply": "2021-09-15T14:37:15.582126Z",
     "shell.execute_reply.started": "2021-09-15T14:24:31.425413Z"
    },
    "papermill": {
     "duration": 0.746787,
     "end_time": "2021-09-15T14:37:15.582826",
     "exception": false,
     "start_time": "2021-09-15T14:37:14.836039",
     "status": "completed"
    },
    "tags": []
   },
   "outputs": [
    {
     "data": {
      "text/plain": [
       "<AxesSubplot:>"
      ]
     },
     "execution_count": 23,
     "metadata": {},
     "output_type": "execute_result"
    },
    {
     "data": {
      "image/png": "[encoded data removed]",
      "text/plain": [
       "<Figure size 1440x576 with 2 Axes>"
      ]
     },
     "metadata": {
      "needs_background": "light"
     },
     "output_type": "display_data"
    }
   ],
   "source": [
    "# Check data is correlated with each other, if features are correlated then you can drop that feature, but check wether that feature are using for same purpose.\n",
    "# from below graph,there is paramter which is showing correlation more than 0.5 that means these are correlated  but as you can see one feature is age and anpther one is vintage and both is used for differnet purpose.\n",
    "correlation = final_data.corr()\n",
    "plt.figure(figsize = (20,8))\n",
    "sns.heatmap(correlation,annot = True,cmap = 'rocket')"
   ]
  },
  {
   "cell_type": "code",
   "execution_count": 24,
   "id": "ba8b48f8",
   "metadata": {
    "execution": {
     "iopub.execute_input": "2021-09-15T14:37:15.673944Z",
     "iopub.status.busy": "2021-09-15T14:37:15.673241Z",
     "iopub.status.idle": "2021-09-15T14:37:15.697462Z",
     "shell.execute_reply": "2021-09-15T14:37:15.698012Z",
     "shell.execute_reply.started": "2021-09-15T14:24:32.571982Z"
    },
    "papermill": {
     "duration": 0.073069,
     "end_time": "2021-09-15T14:37:15.698180",
     "exception": false,
     "start_time": "2021-09-15T14:37:15.625111",
     "status": "completed"
    },
    "tags": []
   },
   "outputs": [],
   "source": [
    "from sklearn.preprocessing import StandardScaler\n",
    "\n",
    "\n",
    "std = StandardScaler()\n",
    "\n",
    "x_std = std.fit_transform(X_res)"
   ]
  },
  {
   "cell_type": "code",
   "execution_count": 25,
   "id": "db0080ff",
   "metadata": {
    "execution": {
     "iopub.execute_input": "2021-09-15T14:37:15.785588Z",
     "iopub.status.busy": "2021-09-15T14:37:15.784919Z",
     "iopub.status.idle": "2021-09-15T14:37:15.808005Z",
     "shell.execute_reply": "2021-09-15T14:37:15.807060Z",
     "shell.execute_reply.started": "2021-09-15T14:24:34.110053Z"
    },
    "papermill": {
     "duration": 0.068072,
     "end_time": "2021-09-15T14:37:15.808224",
     "exception": false,
     "start_time": "2021-09-15T14:37:15.740152",
     "status": "completed"
    },
    "tags": []
   },
   "outputs": [
    {
     "name": "stdout",
     "output_type": "stream",
     "text": [
      "Shape of Training Xs:(93260, 7)\n",
      "shape of Test:(23316, 7)\n"
     ]
    }
   ],
   "source": [
    "from sklearn.model_selection import train_test_split\n",
    "\n",
    "#Split data into Train and test format\n",
    "x_train,x_test,y_train,y_test = train_test_split(x_std,y_res,test_size = 0.20,random_state =42)\n",
    "\n",
    "print('Shape of Training Xs:{}'.format(x_train.shape))\n",
    "print('shape of Test:{}'.format(x_test.shape))"
   ]
  },
  {
   "cell_type": "code",
   "execution_count": 26,
   "id": "260ee867",
   "metadata": {
    "execution": {
     "iopub.execute_input": "2021-09-15T14:37:15.899792Z",
     "iopub.status.busy": "2021-09-15T14:37:15.898995Z",
     "iopub.status.idle": "2021-09-15T14:37:15.902352Z",
     "shell.execute_reply": "2021-09-15T14:37:15.901820Z",
     "shell.execute_reply.started": "2021-09-15T14:31:32.140059Z"
    },
    "papermill": {
     "duration": 0.051239,
     "end_time": "2021-09-15T14:37:15.902492",
     "exception": false,
     "start_time": "2021-09-15T14:37:15.851253",
     "status": "completed"
    },
    "tags": []
   },
   "outputs": [],
   "source": [
    "y_train = np.array(y_train).astype(int)\n",
    "y_test= np.array(y_test).astype(int)"
   ]
  },
  {
   "cell_type": "markdown",
   "id": "4e3030bc",
   "metadata": {
    "papermill": {
     "duration": 0.0424,
     "end_time": "2021-09-15T14:37:15.987111",
     "exception": false,
     "start_time": "2021-09-15T14:37:15.944711",
     "status": "completed"
    },
    "tags": []
   },
   "source": [
    "# 5. Built model"
   ]
  },
  {
   "cell_type": "code",
   "execution_count": 27,
   "id": "f793d71f",
   "metadata": {
    "execution": {
     "iopub.execute_input": "2021-09-15T14:37:16.076368Z",
     "iopub.status.busy": "2021-09-15T14:37:16.075387Z",
     "iopub.status.idle": "2021-09-15T14:37:29.954565Z",
     "shell.execute_reply": "2021-09-15T14:37:29.953635Z",
     "shell.execute_reply.started": "2021-09-15T14:31:38.592200Z"
    },
    "papermill": {
     "duration": 13.924762,
     "end_time": "2021-09-15T14:37:29.954825",
     "exception": false,
     "start_time": "2021-09-15T14:37:16.030063",
     "status": "completed"
    },
    "tags": []
   },
   "outputs": [
    {
     "name": "stderr",
     "output_type": "stream",
     "text": [
      "/opt/conda/lib/python3.7/site-packages/sklearn/utils/validation.py:72: DataConversionWarning: A column-vector y was passed when a 1d array was expected. Please change the shape of y to (n_samples, ), for example using ravel().\n",
      "  return f(**kwargs)\n"
     ]
    },
    {
     "name": "stdout",
     "output_type": "stream",
     "text": [
      "0.6858380511236919\n"
     ]
    },
    {
     "name": "stderr",
     "output_type": "stream",
     "text": [
      "/opt/conda/lib/python3.7/site-packages/sklearn/svm/_base.py:977: ConvergenceWarning: Liblinear failed to converge, increase the number of iterations.\n",
      "  \"the number of iterations.\", ConvergenceWarning)\n"
     ]
    }
   ],
   "source": [
    "from sklearn import svm\n",
    "clf = svm.LinearSVC()\n",
    "clf.fit(x_train,y_train)\n",
    "y_predicted = clf.predict(x_test)\n",
    "score = clf.score(x_test,y_test)\n",
    "print(score)"
   ]
  },
  {
   "cell_type": "code",
   "execution_count": 28,
   "id": "6e434e00",
   "metadata": {
    "execution": {
     "iopub.execute_input": "2021-09-15T14:37:30.095073Z",
     "iopub.status.busy": "2021-09-15T14:37:30.094378Z",
     "iopub.status.idle": "2021-09-15T14:37:30.136377Z",
     "shell.execute_reply": "2021-09-15T14:37:30.136911Z",
     "shell.execute_reply.started": "2021-09-15T14:32:06.855533Z"
    },
    "papermill": {
     "duration": 0.10317,
     "end_time": "2021-09-15T14:37:30.137080",
     "exception": false,
     "start_time": "2021-09-15T14:37:30.033910",
     "status": "completed"
    },
    "tags": []
   },
   "outputs": [
    {
     "data": {
      "text/plain": [
       "array([[8376, 3377],\n",
       "       [3948, 7615]])"
      ]
     },
     "execution_count": 28,
     "metadata": {},
     "output_type": "execute_result"
    }
   ],
   "source": [
    "from sklearn.metrics import confusion_matrix\n",
    "\n",
    "#Confusion Matrix\n",
    "# Compute confusion matrix\n",
    "cnf_matrix = confusion_matrix(y_test, y_predicted)\n",
    "np.set_printoptions(precision=2)\n",
    "cnf_matrix"
   ]
  },
  {
   "cell_type": "code",
   "execution_count": 29,
   "id": "2f2b17de",
   "metadata": {
    "execution": {
     "iopub.execute_input": "2021-09-15T14:37:30.228227Z",
     "iopub.status.busy": "2021-09-15T14:37:30.227250Z",
     "iopub.status.idle": "2021-09-15T14:37:33.336415Z",
     "shell.execute_reply": "2021-09-15T14:37:33.335609Z",
     "shell.execute_reply.started": "2021-09-15T14:32:09.585917Z"
    },
    "papermill": {
     "duration": 3.155618,
     "end_time": "2021-09-15T14:37:33.336603",
     "exception": false,
     "start_time": "2021-09-15T14:37:30.180985",
     "status": "completed"
    },
    "tags": []
   },
   "outputs": [
    {
     "name": "stderr",
     "output_type": "stream",
     "text": [
      "/opt/conda/lib/python3.7/site-packages/sklearn/utils/validation.py:72: DataConversionWarning: A column-vector y was passed when a 1d array was expected. Please change the shape of y to (n_samples, ), for example using ravel().\n",
      "  return f(**kwargs)\n"
     ]
    },
    {
     "name": "stdout",
     "output_type": "stream",
     "text": [
      "0.7263681592039801\n"
     ]
    }
   ],
   "source": [
    "from sklearn.ensemble import AdaBoostClassifier\n",
    "ada = AdaBoostClassifier()\n",
    "ada.fit(x_train,y_train)\n",
    "y_predicted = ada.predict(x_test)\n",
    "score = ada.score(x_test,y_test)\n",
    "print(score)"
   ]
  },
  {
   "cell_type": "code",
   "execution_count": 30,
   "id": "d2003d8b",
   "metadata": {
    "execution": {
     "iopub.execute_input": "2021-09-15T14:37:33.431564Z",
     "iopub.status.busy": "2021-09-15T14:37:33.430931Z",
     "iopub.status.idle": "2021-09-15T14:37:33.469969Z",
     "shell.execute_reply": "2021-09-15T14:37:33.470462Z",
     "shell.execute_reply.started": "2021-09-15T14:32:16.764034Z"
    },
    "papermill": {
     "duration": 0.088455,
     "end_time": "2021-09-15T14:37:33.470626",
     "exception": false,
     "start_time": "2021-09-15T14:37:33.382171",
     "status": "completed"
    },
    "tags": []
   },
   "outputs": [
    {
     "data": {
      "text/plain": [
       "array([[8651, 3102],\n",
       "       [3278, 8285]])"
      ]
     },
     "execution_count": 30,
     "metadata": {},
     "output_type": "execute_result"
    }
   ],
   "source": [
    "#Confusion Matrix\n",
    "# Compute confusion matrix\n",
    "cnf_matrix = confusion_matrix(y_test, y_predicted)\n",
    "np.set_printoptions(precision=2)\n",
    "cnf_matrix"
   ]
  },
  {
   "cell_type": "code",
   "execution_count": 31,
   "id": "2a58e6aa",
   "metadata": {
    "execution": {
     "iopub.execute_input": "2021-09-15T14:37:33.563461Z",
     "iopub.status.busy": "2021-09-15T14:37:33.562697Z",
     "iopub.status.idle": "2021-09-15T14:37:44.129711Z",
     "shell.execute_reply": "2021-09-15T14:37:44.129162Z",
     "shell.execute_reply.started": "2021-09-15T14:34:16.351517Z"
    },
    "papermill": {
     "duration": 10.614669,
     "end_time": "2021-09-15T14:37:44.129853",
     "exception": false,
     "start_time": "2021-09-15T14:37:33.515184",
     "status": "completed"
    },
    "tags": []
   },
   "outputs": [
    {
     "name": "stderr",
     "output_type": "stream",
     "text": [
      "/opt/conda/lib/python3.7/site-packages/sklearn/utils/validation.py:72: DataConversionWarning: A column-vector y was passed when a 1d array was expected. Please change the shape of y to (n_samples, ), for example using ravel().\n",
      "  return f(**kwargs)\n"
     ]
    },
    {
     "name": "stdout",
     "output_type": "stream",
     "text": [
      "0.7387201921427347\n"
     ]
    }
   ],
   "source": [
    "from sklearn.ensemble import GradientBoostingClassifier\n",
    "gradient = GradientBoostingClassifier()\n",
    "gradient.fit(x_train,y_train)\n",
    "y_predicted = gradient.predict(x_test)\n",
    "score = gradient.score(x_test,y_test)\n",
    "print(score)"
   ]
  },
  {
   "cell_type": "markdown",
   "id": "bf8895f4",
   "metadata": {
    "papermill": {
     "duration": 0.045661,
     "end_time": "2021-09-15T14:37:44.220646",
     "exception": false,
     "start_time": "2021-09-15T14:37:44.174985",
     "status": "completed"
    },
    "tags": []
   },
   "source": [
    "Conclusion: You can see gradient boosting model performing well, as compared to other model, also if you used hyperparameter then it will provide you greated accuracy."
   ]
  },
  {
   "cell_type": "code",
   "execution_count": null,
   "id": "7b2a2cb4",
   "metadata": {
    "papermill": {
     "duration": 0.045556,
     "end_time": "2021-09-15T14:37:44.311838",
     "exception": false,
     "start_time": "2021-09-15T14:37:44.266282",
     "status": "completed"
    },
    "tags": []
   },
   "outputs": [],
   "source": []
  }
 ],
 "metadata": {
  "kernelspec": {
   "display_name": "Python 3",
   "language": "python",
   "name": "python3"
  },
  "language_info": {
   "codemirror_mode": {
    "name": "ipython",
    "version": 3
   },
   "file_extension": ".py",
   "mimetype": "text/x-python",
   "name": "python",
   "nbconvert_exporter": "python",
   "pygments_lexer": "ipython3",
   "version": "3.7.10"
  },
  "papermill": {
   "default_parameters": {},
   "duration": 56.809525,
   "end_time": "2021-09-15T14:37:45.572034",
   "environment_variables": {},
   "exception": null,
   "input_path": "__notebook__.ipynb",
   "output_path": "__notebook__.ipynb",
   "parameters": {},
   "start_time": "2021-09-15T14:36:48.762509",
   "version": "2.3.3"
  }
 },
 "nbformat": 4,
 "nbformat_minor": 5
}
